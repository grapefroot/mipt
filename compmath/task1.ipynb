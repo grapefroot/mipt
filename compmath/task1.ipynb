{
 "cells": [
  {
   "cell_type": "code",
   "execution_count": 1,
   "metadata": {
    "collapsed": false
   },
   "outputs": [],
   "source": [
    "import numpy as np\n",
    "import matplotlib.pyplot as plt\n",
    "import sympy as sp\n",
    "from __future__ import division\n",
    "\n",
    "%matplotlib inline"
   ]
  },
  {
   "cell_type": "code",
   "execution_count": 2,
   "metadata": {
    "collapsed": false
   },
   "outputs": [],
   "source": [
    "z = sp.symbols('z')\n",
    "f = sp.symbols('f', cls=sp.Function)"
   ]
  },
  {
   "cell_type": "code",
   "execution_count": 3,
   "metadata": {
    "collapsed": false
   },
   "outputs": [],
   "source": [
    "def derivative(function,x, step):\n",
    "    return (function(x-3*step) - 6*function(x-2*step) + 12*function(x-step) - 10*function(x) + 3*function(x+step))/(2*step**3)"
   ]
  },
  {
   "cell_type": "code",
   "execution_count": 4,
   "metadata": {
    "collapsed": false
   },
   "outputs": [],
   "source": [
    "f = (sp.sin(sp.ln(2 + sp.cos(z))))**2"
   ]
  },
  {
   "cell_type": "code",
   "execution_count": 5,
   "metadata": {
    "collapsed": false
   },
   "outputs": [],
   "source": [
    "differentiated = sp.diff(f, z, 3)"
   ]
  },
  {
   "cell_type": "code",
   "execution_count": 6,
   "metadata": {
    "collapsed": false
   },
   "outputs": [
    {
     "data": {
      "text/plain": [
       "2.0*(sin(log(cos(z) + 2))*cos(log(cos(z) + 2)) - 3.0*sin(log(cos(z) + 2))**2*cos(z)/(cos(z) + 2.0) - 3.0*sin(log(cos(z) + 2))*cos(z)*cos(log(cos(z) + 2))/(cos(z) + 2.0) + 3.0*cos(z)*cos(log(cos(z) + 2))**2/(cos(z) + 2.0) - 3.0*sin(z)**2*sin(log(cos(z) + 2))**2/(cos(z) + 2.0)**2 + 2.0*sin(z)**2*sin(log(cos(z) + 2))*cos(log(cos(z) + 2))/(cos(z) + 2.0)**2 + 3.0*sin(z)**2*cos(log(cos(z) + 2))**2/(cos(z) + 2.0)**2)*sin(z)/(cos(z) + 2.0)"
      ]
     },
     "execution_count": 6,
     "metadata": {},
     "output_type": "execute_result"
    }
   ],
   "source": [
    "differentiated.evalf(5)"
   ]
  },
  {
   "cell_type": "code",
   "execution_count": 7,
   "metadata": {
    "collapsed": false
   },
   "outputs": [
    {
     "data": {
      "text/plain": [
       "2*(-3*sin(5)**2*sin(log(cos(5) + 2))**2/(cos(5) + 2)**2 - 3*sin(log(cos(5) + 2))**2*cos(5)/(cos(5) + 2) - 3*sin(log(cos(5) + 2))*cos(5)*cos(log(cos(5) + 2))/(cos(5) + 2) + 3*cos(5)*cos(log(cos(5) + 2))**2/(cos(5) + 2) + 2*sin(5)**2*sin(log(cos(5) + 2))*cos(log(cos(5) + 2))/(cos(5) + 2)**2 + 3*sin(5)**2*cos(log(cos(5) + 2))**2/(cos(5) + 2)**2 + sin(log(cos(5) + 2))*cos(log(cos(5) + 2)))*sin(5)/(cos(5) + 2)"
      ]
     },
     "execution_count": 7,
     "metadata": {},
     "output_type": "execute_result"
    }
   ],
   "source": [
    "differentiated.subs(z, 5)"
   ]
  },
  {
   "cell_type": "code",
   "execution_count": 8,
   "metadata": {
    "collapsed": true
   },
   "outputs": [],
   "source": [
    "from math import cos, log, sin"
   ]
  },
  {
   "cell_type": "code",
   "execution_count": 9,
   "metadata": {
    "collapsed": true
   },
   "outputs": [],
   "source": [
    "der5 =2*(-3*sin(5)**2*sin(log(cos(5) + 2))**2/(cos(5) + 2)**2 - 3*sin(log(cos(5) + 2))**2*cos(5)/(cos(5) + 2) - 3*sin(log(cos(5) + 2))*cos(5)*cos(log(cos(5) + 2))/(cos(5) + 2) + 3*cos(5)*cos(log(cos(5) + 2))**2/(cos(5) + 2) + 2*sin(5)**2*sin(log(cos(5) + 2))*cos(log(cos(5) + 2))/(cos(5) + 2)**2 + 3*sin(5)**2*cos(log(cos(5) + 2))**2/(cos(5) + 2)**2 + sin(log(cos(5) + 2))*cos(log(cos(5) + 2)))*sin(5)/(cos(5) + 2)"
   ]
  },
  {
   "cell_type": "code",
   "execution_count": 10,
   "metadata": {
    "collapsed": false
   },
   "outputs": [
    {
     "data": {
      "text/plain": [
       "-0.34908078013584914"
      ]
     },
     "execution_count": 10,
     "metadata": {},
     "output_type": "execute_result"
    }
   ],
   "source": [
    "der5"
   ]
  },
  {
   "cell_type": "code",
   "execution_count": 11,
   "metadata": {
    "collapsed": true
   },
   "outputs": [],
   "source": [
    "sinsq = lambda x: np.sin(np.log(2+np.cos(x)))**2"
   ]
  },
  {
   "cell_type": "code",
   "execution_count": 12,
   "metadata": {
    "collapsed": false,
    "scrolled": true
   },
   "outputs": [],
   "source": [
    "derivatives = []\n",
    "\n",
    "for i in range(20):\n",
    "    derivatives.append(derivative(sinsq, x=5, step = (0.5)**i))\n"
   ]
  },
  {
   "cell_type": "markdown",
   "metadata": {},
   "source": [
    "Оптимальный шаг при i = 10"
   ]
  },
  {
   "cell_type": "code",
   "execution_count": 13,
   "metadata": {
    "collapsed": false
   },
   "outputs": [
    {
     "data": {
      "text/plain": [
       "10"
      ]
     },
     "execution_count": 13,
     "metadata": {},
     "output_type": "execute_result"
    }
   ],
   "source": [
    "np.argmin(np.abs(np.array(derivatives) - der5))"
   ]
  },
  {
   "cell_type": "code",
   "execution_count": 14,
   "metadata": {
    "collapsed": false
   },
   "outputs": [
    {
     "name": "stdout",
     "output_type": "stream",
     "text": [
      "10 -0.349078655243\n"
     ]
    }
   ],
   "source": [
    "differences = (map(lambda x: np.abs(x - der5), derivatives))\n",
    "minind = np.argmin(differences)\n",
    "print minind, derivatives[minind]"
   ]
  },
  {
   "cell_type": "markdown",
   "metadata": {},
   "source": [
    "Относительная погрешность"
   ]
  },
  {
   "cell_type": "code",
   "execution_count": 15,
   "metadata": {
    "collapsed": false
   },
   "outputs": [
    {
     "data": {
      "text/plain": [
       "-6.08710948908694e-06"
      ]
     },
     "execution_count": 15,
     "metadata": {},
     "output_type": "execute_result"
    }
   ],
   "source": [
    "np.abs(derivatives[minind] - der5)/der5"
   ]
  },
  {
   "cell_type": "code",
   "execution_count": 16,
   "metadata": {
    "collapsed": false
   },
   "outputs": [],
   "source": [
    "points = [differences[i]/differences[i+1] for i in range(len(differences) - 1)]"
   ]
  },
  {
   "cell_type": "code",
   "execution_count": 17,
   "metadata": {
    "collapsed": false
   },
   "outputs": [
    {
     "data": {
      "text/plain": [
       "[<matplotlib.lines.Line2D at 0x7f32278d6990>]"
      ]
     },
     "execution_count": 17,
     "metadata": {},
     "output_type": "execute_result"
    },
    {
     "data": {
      "image/png": "[encoded data removed]",
      "text/plain": [
       "<matplotlib.figure.Figure at 0x7f322994d6d0>"
      ]
     },
     "metadata": {},
     "output_type": "display_data"
    }
   ],
   "source": [
    "plot = plt.figure(figsize=(10, 10))\n",
    "plt.plot(points)"
   ]
  },
  {
   "cell_type": "markdown",
   "metadata": {},
   "source": [
    "В окрестности оптимального шага ведет функция ведет себя квадратично.\n",
    "\n",
    "Порядок 2"
   ]
  },
  {
   "cell_type": "code",
   "execution_count": 18,
   "metadata": {
    "collapsed": false
   },
   "outputs": [
    {
     "data": {
      "text/plain": [
       "[1.5799337966982465,\n",
       " 34.750257437518897,\n",
       " 2.0432650083930781,\n",
       " 2.6894169329308415,\n",
       " 3.5640540292289447,\n",
       " 3.8238285537098613,\n",
       " 3.9209347002684529,\n",
       " 3.9592146956623582,\n",
       " 3.6146854247215074,\n",
       " 1.1542786188217746,\n",
       " 0.47124768961905422,\n",
       " 0.040161280587515585,\n",
       " 0.42389699406226466,\n",
       " 0.060828876562917175,\n",
       " 0.098082809437029184,\n",
       " 0.44805137863248301,\n",
       " 0.053583802936164764,\n",
       " 0.14973428492833193,\n",
       " 0.15369286941722957]"
      ]
     },
     "execution_count": 18,
     "metadata": {},
     "output_type": "execute_result"
    }
   ],
   "source": [
    "points"
   ]
  }
 ],
 "metadata": {
  "kernelspec": {
   "display_name": "Python 2",
   "language": "python",
   "name": "python2"
  },
  "language_info": {
   "codemirror_mode": {
    "name": "ipython",
    "version": 2
   },
   "file_extension": ".py",
   "mimetype": "text/x-python",
   "name": "python",
   "nbconvert_exporter": "python",
   "pygments_lexer": "ipython2",
   "version": "2.7.12"
  }
 },
 "nbformat": 4,
 "nbformat_minor": 1
}
